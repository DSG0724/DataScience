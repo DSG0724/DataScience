{
 "cells": [
  {
   "cell_type": "code",
   "execution_count": 5,
   "id": "9abf1ed7-f0e3-4799-ac13-129f6bf7d0e5",
   "metadata": {},
   "outputs": [
    {
     "name": "stdout",
     "output_type": "stream",
     "text": [
      "Hello Data Science World! \n",
      " Python\n"
     ]
    }
   ],
   "source": [
    "#python is a case senstive language\n",
    "\n",
    "print(\"Hello Data Science World! \\n Python\")"
   ]
  },
  {
   "cell_type": "code",
   "execution_count": null,
   "id": "a0462616-9de2-4bf1-a414-0f3202fa3ec8",
   "metadata": {},
   "outputs": [],
   "source": [
    "python is a case senstive language\n",
    "\n",
    "8*2+3"
   ]
  },
  {
   "cell_type": "code",
   "execution_count": null,
   "id": "20d82936-9904-4d60-b95d-99fb9aee2fdc",
   "metadata": {},
   "outputs": [],
   "source": [
    "#"
   ]
  },
  {
   "cell_type": "markdown",
   "id": "cbe1cc7c-67b6-4db3-bf26-126e17dfe1da",
   "metadata": {},
   "source": [
    "Shortcuts\n",
    "\n",
    "to add the cell above the current cell-Esc+A\n",
    "\n",
    "to add the cell bellow the current cell-ESC+B\n",
    "\n",
    "To delete the cell-ESC+D+D\n",
    "\n",
    "to execute a cell- ctrl + enter or shift + enter"
   ]
  },
  {
   "cell_type": "code",
   "execution_count": 3,
   "id": "398702c3-bd53-495e-bb1f-5a941a81e133",
   "metadata": {},
   "outputs": [
    {
     "data": {
      "text/plain": [
       "18"
      ]
     },
     "execution_count": 3,
     "metadata": {},
     "output_type": "execute_result"
    }
   ],
   "source": [
    "8+10"
   ]
  },
  {
   "cell_type": "code",
   "execution_count": 4,
   "id": "ceddcdd4-0747-426c-aec5-fefbda03de87",
   "metadata": {},
   "outputs": [
    {
     "data": {
      "text/plain": [
       "4.0"
      ]
     },
     "execution_count": 4,
     "metadata": {},
     "output_type": "execute_result"
    }
   ],
   "source": [
    "8/2"
   ]
  },
  {
   "cell_type": "code",
   "execution_count": 9,
   "id": "6609a09b-7e16-4122-95f7-06f609b1f2ac",
   "metadata": {},
   "outputs": [
    {
     "name": "stdout",
     "output_type": "stream",
     "text": [
      "Hello Data Scuence World!\n"
     ]
    }
   ],
   "source": [
    "print(\"Hello Data Scuence World!\")"
   ]
  }
 ],
 "metadata": {
  "kernelspec": {
   "display_name": "Python 3 (ipykernel)",
   "language": "python",
   "name": "python3"
  },
  "language_info": {
   "codemirror_mode": {
    "name": "ipython",
    "version": 3
   },
   "file_extension": ".py",
   "mimetype": "text/x-python",
   "name": "python",
   "nbconvert_exporter": "python",
   "pygments_lexer": "ipython3",
   "version": "3.12.4"
  }
 },
 "nbformat": 4,
 "nbformat_minor": 5
}
